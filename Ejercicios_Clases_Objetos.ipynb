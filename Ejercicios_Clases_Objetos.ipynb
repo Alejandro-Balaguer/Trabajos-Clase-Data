{
 "cells": [
  {
   "cell_type": "markdown",
   "metadata": {},
   "source": [
    "![imagen](./img/ejercicios.png)\n",
    "\n",
    "# Ejercicios Clases y Objetos"
   ]
  },
  {
   "attachments": {},
   "cell_type": "markdown",
   "metadata": {},
   "source": [
    "## Ejercicio 1\n",
    "Somos una empresa que tiene varias tiendas de electrodomésticos. Necesitamos un programa para manejar las tiendas, ver las ventas que han tenido, cuántos empleados hay, etc... Para ello vamos a modelizar la tienda en una clase, que tendrá las siguientes características:\n",
    "* Nombre clase: \"Tienda\"\n",
    "* Atributos comunes:\n",
    "    * Tipo: \"Electrodomésticos\"\n",
    "    * Abierta: True\n",
    "* Atributos propios de cada tienda:\n",
    "    * Nombre - String\n",
    "    * Dirección - String\n",
    "    * Número de empleados - int\n",
    "    * Ventas últimos 3 meses - Lista de 3 numeros\n",
    "* Método para calcular las ventas de todos los meses, que devuelva un número con todas las ventas.\n",
    "* Método que calcula la media de ventas de los últimos meses, por empleado\n",
    "* Método que devuelve en un string el nombre de la tienda, junto con su dirección.\n",
    "* Método que obtiene las ventas del último mes.\n",
    "* Método para dar una proyección de las ventas en caso de haber invertido X dinero en marketing en esa tienda. Siendo X el parámetro de entrada. Si X es menor de 1000, las ventas de los ultimos 3 meses hubiesen sido de (1.2 x ventas), si es mayor o igual de 1000, las ventas hubiesen sido de (1.5 x venta). El método reescribe el atributo de ventas en los últimos 3 meses, y además devuelve las ventas con el aumento.\n",
    "\n",
    "Se pide:\n",
    "1. Implementar la clase \"Tienda\"\n",
    "2. Crear tres tiendas con datos inventados\n",
    "3. Comprueba en al menos una de ellas, todo lo implementado en la clase tienda (sus atributos, media de ventas, ventas/empleado...)\n",
    "3. Calcular las ventas del último mes de todas las tiendas. Para ello usa el bucle `for`\n",
    "4. Imprime por pantalla los nombres de las tiendas cuya dirección lleve el string \"Avenida\"\n",
    "5. Seguro que ya has hecho este apartado... Documenta la clase :)"
   ]
  },
  {
   "cell_type": "code",
   "execution_count": 8,
   "metadata": {},
   "outputs": [],
   "source": [
    "class Tienda:\n",
    "    tipo = \"Electrodomesticos\"\n",
    "    abierto = True\n",
    "\n",
    "    def __init__(self, nombre: str, direccion: str, numero_empl: int, ventas_ult_3m: list[float]):\n",
    "        self.nombre = nombre\n",
    "        self.direccion = direccion\n",
    "        self.numero_empl = numero_empl\n",
    "        self.ventas_ult_3m = ventas_ult_3m\n",
    "\n",
    "    def total_ventas (self):\n",
    "        return sum(self.ventas_ult_3m)\n",
    "    def ventas_empleados (self):\n",
    "        meses = len(self.ventas_ult_3m)\n",
    "        return self.total_ventas() / (meses * self.numero_empl)\n",
    "    def datos_tienda (self):\n",
    "        return f\"{self.nombre}, {self.direccion}\"\n",
    "    def ultm_mes (self):\n",
    "        return self.ventas_ult_3m[-1]\n",
    "    def proyeccion_ventas(self, x:float):\n",
    "        if x < 1000:\n",
    "            aumento = 1.2\n",
    "        elif x >= 1000:\n",
    "            aumento = 1.5\n",
    "        self.ventas_ult_3_meses = [venta * aumento for venta in self.ventas_ult_3_meses]\n",
    "\n",
    "        return self.ventas_ult_3_meses\n",
    "    \n"
   ]
  },
  {
   "cell_type": "markdown",
   "metadata": {},
   "source": [
    "1. Implementar la clase \"Tienda\"\n",
    "2. Crear tres tiendas con datos inventados\n",
    "3. Comprueba en al menos una de ellas, todo lo implementado en la clase tienda (sus atributos, media de ventas, ventas/empleado...)\n",
    "3. Calcular las ventas del último mes de todas las tiendas. Para ello usa el bucle `for`\n",
    "4. Imprime por pantalla los nombres de las tiendas cuya dirección lleve el string \"Avenida\"\n",
    "5. Seguro que ya has hecho este apartado... Documenta la clase :)"
   ]
  },
  {
   "cell_type": "code",
   "execution_count": 15,
   "metadata": {},
   "outputs": [
    {
     "name": "stdout",
     "output_type": "stream",
     "text": [
      "Datos y cálculos para ElectroAvenida\n",
      "Tipo: Electrodomesticos\n",
      "Abierta: True\n",
      "Total ventas: 6300.0\n",
      "Datos tienda: ElectroAvenida, Avenida Siempre Viva 742\n",
      "Ventas último mes: 2200.0\n",
      "\n",
      "Ventas último mes de cada tienda\n",
      "ElectroHome: 1200.0\n",
      "ElectroAvenida: 2200.0\n",
      "ElectroCentro: 1600.0\n",
      "\n",
      "Tiendas en Avenida\n",
      "ElectroAvenida\n"
     ]
    }
   ],
   "source": [
    "# Crear tres tiendas con datos inventados\n",
    "tienda1 = Tienda(\"ElectroHome\", \"Calle Falsa 123\", 4, [1000.0, 1100.0, 1200.0])\n",
    "tienda2 = Tienda(\"ElectroAvenida\", \"Avenida Siempre Viva 742\", 3, [2000.0, 2100.0, 2200.0])\n",
    "tienda3 = Tienda(\"ElectroCentro\", \"Plaza Mayor\", 5, [1500.0, 1550.0, 1600.0])\n",
    "\n",
    "# Comprobar todo lo implementado en tienda2\n",
    "print(\"Datos y cálculos para ElectroAvenida\")\n",
    "print(\"Tipo:\", tienda2.tipo)\n",
    "print(\"Abierta:\", tienda2.abierto)\n",
    "print(\"Total ventas:\", tienda2.total_ventas())\n",
    "print(\"Datos tienda:\", tienda2.datos_tienda())\n",
    "print(\"Ventas último mes:\", tienda2.ultm_mes())\n",
    "\n",
    "# Calcular las ventas del último mes de todas las tiendas \n",
    "print(\"\\nVentas último mes de cada tienda\")\n",
    "for tienda in (tienda1, tienda2, tienda3):\n",
    "    print(f\"{tienda.nombre}: {tienda.ultm_mes()}\")\n",
    "\n",
    "# --- Imprimir nombres de las tiendas cuya dirección contiene \"Avenida\" ---\n",
    "print(\"\\nTiendas en Avenida\")\n",
    "for tienda in (tienda1, tienda2, tienda3):\n",
    "    if \"Avenida\" in tienda.direccion:\n",
    "        print(tienda.nombre)"
   ]
  },
  {
   "cell_type": "markdown",
   "metadata": {},
   "source": [
    "## Ejercicio 2\n",
    "En este ejercicio vamos a implementar una clase *Perro* en Python. La clase tiene las siguientes características:\n",
    "* Cosas que sabemos seguro que tiene un perro\n",
    "    * Tiene 4 patas\n",
    "    * 2 orejas\n",
    "    * 2 ojos\n",
    "    * Una velocidad de 0. Por defecto, el perro está parado\n",
    "* Cuando se inicialice:\n",
    "    * El perro será de una determinada raza\n",
    "    * Por defecto tendrá pelo \"Marrón\", a no ser que se diga lo contrario.\n",
    "    * Por defecto no tendrá dueño, a no ser que se diga lo contrario.\n",
    "    \n",
    "* Dispondrá también de un método llamado andar, que tiene un argumento de entrada (aumento_velocidad). Este valor se le sumará a la velocidad que ya llevaba el perro.\n",
    "* Necesita otro método (parar), donde pondremos la velocidad a 0.\n",
    "* Otro método llamado \"ladrar\", que tendrá un argumento de entrada, y la salida será el siguiente string: \"GUAU!\" + el argumento de entrada.\n",
    "\n",
    "\n",
    "Se pide:\n",
    "* Implementa la clase *Perro*\n",
    "* Crea un objeto de tipo *Perro*, sin dueño\n",
    "* Comprueba que están bien todos sus atributos\n",
    "* Prueba que ande, y comprueba su velocidad\n",
    "* Páralo\n",
    "* Documenta la clase *Perro*"
   ]
  },
  {
   "cell_type": "code",
   "execution_count": 16,
   "metadata": {},
   "outputs": [
    {
     "name": "stdout",
     "output_type": "stream",
     "text": [
      "Patas: 4\n",
      "Orejas: 2\n",
      "Ojos: 2\n",
      "Raza: Labrador\n",
      "Pelo: Marrón\n",
      "Dueño: None\n",
      "Velocidad: 0.0\n",
      "Velocidad tras andar(5.5): 5.5\n",
      "Velocidad tras parar(): 0.0\n",
      "GUAU! ¡Ven aquí!\n"
     ]
    }
   ],
   "source": [
    "class Perro:\n",
    "    \"\"\"\n",
    "    Representa un perro genérico.\n",
    "\n",
    "    Atributos de clase (comunes a todos los perros):\n",
    "        patas (int): siempre 4.\n",
    "        orejas (int): siempre 2.\n",
    "        ojos (int): siempre 2.\n",
    "\n",
    "    Atributos de instancia:\n",
    "        raza (str): la raza del perro.\n",
    "        pelo (str): color del pelaje (por defecto \"Marrón\").\n",
    "        duenio (str|None): nombre del dueño (por defecto None).\n",
    "        velocidad (float): velocidad actual; inicia en 0 (parado).\n",
    "    \"\"\"\n",
    "    patas = 4\n",
    "    orejas = 2\n",
    "    ojos = 2\n",
    "\n",
    "    def __init__(self, raza: str, pelo: str = \"Marrón\", duenio: str = None):\n",
    "        \"\"\"\n",
    "        Inicializa un perro de la raza dada.\n",
    "        Si no se indica, pelo será \"Marrón\" y no tendrá dueño.\n",
    "        \"\"\"\n",
    "        self.raza = raza\n",
    "        self.pelo = pelo\n",
    "        self.duenio = duenio\n",
    "        self.velocidad = 0.0\n",
    "\n",
    "    def andar(self, aumento_velocidad: float):\n",
    "        \"\"\"\n",
    "        Incrementa la velocidad del perro en aumento_velocidad.\n",
    "        \"\"\"\n",
    "        self.velocidad += aumento_velocidad\n",
    "\n",
    "    def parar(self):\n",
    "        \"\"\"\n",
    "        Detiene al perro poniendo su velocidad a cero.\n",
    "        \"\"\"\n",
    "        self.velocidad = 0.0\n",
    "\n",
    "    def ladrar(self, mensaje: str):\n",
    "        \"\"\"\n",
    "        Devuelve un ladrido seguido del mensaje dado.\n",
    "        \"\"\"\n",
    "        return \"GUAU! \" + mensaje\n",
    "\n",
    "\n",
    "# Pruebas\n",
    "\n",
    "# Creamos un perro sin dueño\n",
    "mi_perro = Perro(raza=\"Labrador\")\n",
    "\n",
    "# Comprobamos sus atributos iniciales\n",
    "print(\"Patas:\",        mi_perro.patas)        # 4\n",
    "print(\"Orejas:\",       mi_perro.orejas)       # 2\n",
    "print(\"Ojos:\",         mi_perro.ojos)         # 2\n",
    "print(\"Raza:\",         mi_perro.raza)         # \"Labrador\"\n",
    "print(\"Pelo:\",         mi_perro.pelo)         # \"Marrón\"\n",
    "print(\"Dueño:\",        mi_perro.duenio)       # None\n",
    "print(\"Velocidad:\",    mi_perro.velocidad)    # 0.0\n",
    "\n",
    "# Hacemos que ande\n",
    "mi_perro.andar(5.5)\n",
    "print(\"Velocidad tras andar(5.5):\", mi_perro.velocidad)  # 5.5\n",
    "\n",
    "# Lo paramos\n",
    "mi_perro.parar()\n",
    "print(\"Velocidad tras parar():\", mi_perro.velocidad)     # 0.0\n",
    "\n",
    "# Ladrido\n",
    "print(mi_perro.ladrar(\"¡Ven aquí!\"))  # \"GUAU! ¡Ven aquí!\"\n"
   ]
  },
  {
   "cell_type": "code",
   "execution_count": 32,
   "metadata": {},
   "outputs": [],
   "source": [
    "perro = Perro(\"ghj\", \"vhjk\")"
   ]
  },
  {
   "cell_type": "code",
   "execution_count": 33,
   "metadata": {},
   "outputs": [
    {
     "data": {
      "text/plain": [
       "'Guau!! tuprima'"
      ]
     },
     "execution_count": 33,
     "metadata": {},
     "output_type": "execute_result"
    }
   ],
   "source": [
    "perro.ladrar(\"tuprima\")"
   ]
  },
  {
   "cell_type": "code",
   "execution_count": 43,
   "metadata": {},
   "outputs": [
    {
     "data": {
      "text/plain": [
       "0"
      ]
     },
     "execution_count": 43,
     "metadata": {},
     "output_type": "execute_result"
    }
   ],
   "source": [
    "perro.velocidad"
   ]
  }
 ],
 "metadata": {
  "kernelspec": {
   "display_name": "data_analysis_env",
   "language": "python",
   "name": "python3"
  },
  "language_info": {
   "codemirror_mode": {
    "name": "ipython",
    "version": 3
   },
   "file_extension": ".py",
   "mimetype": "text/x-python",
   "name": "python",
   "nbconvert_exporter": "python",
   "pygments_lexer": "ipython3",
   "version": "3.11.11"
  }
 },
 "nbformat": 4,
 "nbformat_minor": 4
}
