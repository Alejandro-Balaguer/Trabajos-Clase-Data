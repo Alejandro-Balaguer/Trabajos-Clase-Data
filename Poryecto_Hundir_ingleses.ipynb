{
 "cells": [
  {
   "cell_type": "code",
   "execution_count": 4,
   "id": "ef14bab0",
   "metadata": {},
   "outputs": [],
   "source": [
    "import numpy as np"
   ]
  },
  {
   "cell_type": "code",
   "execution_count": 6,
   "id": "f6ed34ed",
   "metadata": {},
   "outputs": [
    {
     "name": "stdout",
     "output_type": "stream",
     "text": [
      "1 H 1 5\n",
      "1 V 0 3\n",
      "2 H 8 5\n",
      "3 V 0 5\n",
      "4 H 9 5\n"
     ]
    },
    {
     "data": {
      "text/plain": [
       "array([[' ', ' ', ' ', 'B', ' ', 'B', ' ', ' ', ' ', ' '],\n",
       "       [' ', ' ', ' ', ' ', ' ', 'B', ' ', ' ', ' ', ' '],\n",
       "       [' ', ' ', ' ', ' ', ' ', 'B', ' ', ' ', ' ', ' '],\n",
       "       [' ', ' ', ' ', ' ', ' ', ' ', ' ', ' ', ' ', ' '],\n",
       "       [' ', ' ', ' ', ' ', ' ', ' ', ' ', ' ', ' ', ' '],\n",
       "       [' ', ' ', ' ', ' ', ' ', ' ', ' ', ' ', ' ', ' '],\n",
       "       [' ', ' ', ' ', ' ', ' ', ' ', ' ', ' ', ' ', ' '],\n",
       "       [' ', ' ', ' ', ' ', ' ', ' ', ' ', ' ', ' ', ' '],\n",
       "       [' ', ' ', ' ', ' ', ' ', 'B', 'B', ' ', ' ', ' '],\n",
       "       [' ', ' ', ' ', ' ', ' ', 'B', 'B', 'B', 'B', ' ']], dtype='<U1')"
      ]
     },
     "execution_count": 6,
     "metadata": {},
     "output_type": "execute_result"
    }
   ],
   "source": [
    "# Tablero\n",
    "\n",
    "tablero = np.full((10,10), \" \")\n",
    "tablero\n",
    "\n",
    "for eslora in [1,1,2,3,4]:\n",
    "    orientacion = np.random.choice([\"V\", \"H\"])\n",
    "    # orientacion = np.random.choice([\"N\", \"S\", \"E\" ,\"O\"])\n",
    "\n",
    "    if orientacion == \"V\":\n",
    "        coord1 = np.random.randint(0,10-(eslora-1))\n",
    "        coord2 = np.random.randint(0,10)\n",
    "\n",
    "        tablero[coord1:coord1+eslora                  , coord2           ] = \"B\"\n",
    "\n",
    "    if orientacion == \"H\":\n",
    "        coord2 = np.random.randint(0,10-(eslora-1))\n",
    "        coord1 = np.random.randint(0,10)\n",
    "\n",
    "        tablero[coord1                , coord2   :coord2+eslora          ] = \"B\"\n",
    "    print(eslora, orientacion, coord1, coord2)\n",
    "tablero\n"
   ]
  },
  {
   "cell_type": "code",
   "execution_count": 8,
   "id": "477e0434",
   "metadata": {},
   "outputs": [],
   "source": [
    "# Funcion disparo\n",
    "\n",
    "def dispara(fila_disparo,columna_disparo):\n",
    "    if tablero[fila_disparo, columna_disparo] == \"O\":\n",
    "        print(\"tocado\")\n",
    "        tablero[fila_disparo, columna_disparo]  = \"X\"\n",
    "\n",
    "    elif tablero[fila_disparo, columna_disparo] == \"X\":\n",
    "        print(\"ya estaba tocado\")\n",
    "    else:\n",
    "        print(\"agua\") \n",
    "        tablero[fila_disparo, columna_disparo] = \"-\""
   ]
  }
 ],
 "metadata": {
  "kernelspec": {
   "display_name": "data_analysis_env",
   "language": "python",
   "name": "python3"
  },
  "language_info": {
   "codemirror_mode": {
    "name": "ipython",
    "version": 3
   },
   "file_extension": ".py",
   "mimetype": "text/x-python",
   "name": "python",
   "nbconvert_exporter": "python",
   "pygments_lexer": "ipython3",
   "version": "3.11.11"
  }
 },
 "nbformat": 4,
 "nbformat_minor": 5
}
