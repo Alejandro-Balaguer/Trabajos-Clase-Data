{
 "cells": [
  {
   "cell_type": "code",
   "execution_count": 1,
   "id": "fbab21db",
   "metadata": {},
   "outputs": [],
   "source": [
    "class Instituto:\n",
    "    estudiantes = {\"juan\": [1,2,5], \"pepe\": [5,7,7], \"raul\": [9,9,10]}\n",
    "    \n",
    "\n",
    "    def stats(self):\n",
    "        \"\"\"\n",
    "        el metodo stats devuelve la media de cada estudiante y la media global\n",
    "        \"\"\"\n",
    "        medias = []\n",
    "        for alumno, notas in self.estudiantes.items():\n",
    "            print(f\"La media de {alumno} es {sum(notas)/len(notas)}\")\n",
    "            medias.append(sum(notas)/len(notas))\n",
    "        print(f\"La media global es {sum(medias)/len(medias)}\")\n",
    "        \n",
    "\n",
    "    \n",
    "\n",
    "    def procentaje_aprobados_total(self):\n",
    "        \"\"\"\n",
    "        devuelve el porcentaje de alumnos que su media es al menos 5\n",
    "        \"\"\"\n",
    "\n",
    "        medias = []\n",
    "        for alumno, notas in self.estudiantes.items():\n",
    "            medias.append(sum(notas)/len(notas))\n",
    "       \n",
    "\n",
    "        aprobados = 0\n",
    "        for media in medias:\n",
    "            if media >= 5:\n",
    "                aprobados = aprobados + 1\n",
    "        return aprobados/len(medias)*100\n",
    "\n",
    "    def procentaje_aprobados_eval(self, evaluacion): #evaluacion es 1 o 2 o 3\n",
    "        \"\"\"\n",
    "        devuelve el porcentaje de alumnos aprobados en una evaluacion concreta (hay 3)\n",
    "        \"\"\"\n",
    "        \n",
    "        aprobados = 0\n",
    "        \n",
    "        \n",
    "        for alumno, notas in self.estudiantes.items():\n",
    "            \n",
    "            nota_evaluacion = notas[evaluacion-1]\n",
    "            if nota_evaluacion >= 5:\n",
    "                aprobados = aprobados + 1\n",
    "        \n",
    "        return aprobados/len(self.estudiantes.keys())\n",
    "\n",
    "\n",
    "    def cambiar_nota(self, alumno, nueva_nota):\n",
    "        \"\"\"\n",
    "        se le pone una nueva nota (las 3) al alumno en cuestion\n",
    "        \"\"\"\n",
    "        self.estudiantes[alumno] = nueva_nota\n",
    "        return self.estudiantes"
   ]
  },
  {
   "cell_type": "code",
   "execution_count": 1,
   "id": "7bb97250",
   "metadata": {},
   "outputs": [],
   "source": [
    "nombre = (\"Alejandro\")\n",
    "edad = 31"
   ]
  },
  {
   "cell_type": "code",
   "execution_count": 2,
   "id": "f4f62568",
   "metadata": {},
   "outputs": [
    {
     "name": "stdout",
     "output_type": "stream",
     "text": [
      "Alejandro\n",
      "31\n"
     ]
    }
   ],
   "source": [
    "print(nombre)\n",
    "print(edad)"
   ]
  },
  {
   "cell_type": "code",
   "execution_count": 3,
   "id": "073d194a",
   "metadata": {},
   "outputs": [],
   "source": [
    "edad = 25"
   ]
  },
  {
   "cell_type": "code",
   "execution_count": 4,
   "id": "494d70f4",
   "metadata": {},
   "outputs": [
    {
     "name": "stdout",
     "output_type": "stream",
     "text": [
      "25\n"
     ]
    }
   ],
   "source": [
    "print(edad)"
   ]
  },
  {
   "cell_type": "code",
   "execution_count": 6,
   "id": "0212caaf",
   "metadata": {},
   "outputs": [
    {
     "data": {
      "text/plain": [
       "24.7"
      ]
     },
     "execution_count": 6,
     "metadata": {},
     "output_type": "execute_result"
    }
   ],
   "source": [
    "round(24.691739372, 1)"
   ]
  },
  {
   "cell_type": "code",
   "execution_count": 14,
   "id": "87d64fbc",
   "metadata": {},
   "outputs": [
    {
     "name": "stdout",
     "output_type": "stream",
     "text": [
      "para \"con\" pis casa\n",
      "3\n",
      "3.0\n",
      "<class 'int'>\n"
     ]
    }
   ],
   "source": [
    "variable1 = 'para \"con\" pis '\n",
    "type(variable1)\n",
    "variable2 = \"casa\"\n",
    "sumavar = variable1 + variable2\n",
    "print(sumavar)\n",
    "botesresina = 3\n",
    "print(botesresina)\n",
    "print(float(botesresina))\n",
    "print(type(botesresina))"
   ]
  },
  {
   "cell_type": "code",
   "execution_count": 1,
   "id": "f0b11b23",
   "metadata": {},
   "outputs": [
    {
     "name": "stdout",
     "output_type": "stream",
     "text": [
      "Estupendo, se están preparando 5 pizzas.\n",
      "Le mandaremos las 5 pizzas a la dirección calle caca. Muchas gracias por su pedido.\n"
     ]
    }
   ],
   "source": [
    "pizz = int(input(\"Buenas tardes, bienvenido al servicio de pedido online, ¿Cuántas pizzas desea?\"))\n",
    "print(\"Estupendo, se están preparando\", pizz , \"pizzas.\")\n",
    "direc = input(\"Digama su dirreccion\")\n",
    "print(f\"Le mandaremos las {pizz} pizzas a la dirección {direc}. Muchas gracias por su pedido.\")"
   ]
  },
  {
   "cell_type": "code",
   "execution_count": 1,
   "id": "fe153814",
   "metadata": {},
   "outputs": [
    {
     "name": "stdout",
     "output_type": "stream",
     "text": [
      "30.2\n",
      "228.0\n",
      "5.341384221469395e+17\n",
      "15.0\n"
     ]
    }
   ],
   "source": [
    "var1 = 15\n",
    "var2 = 15.2\n",
    "sum = var1 + var2\n",
    "print(sum)\n",
    "mult = var1 * var2\n",
    "print(mult)\n",
    "eleva = var2 ** var1\n",
    "print(eleva)\n",
    "resto = var1 % var2\n",
    "print(resto)"
   ]
  },
  {
   "cell_type": "code",
   "execution_count": 10,
   "id": "91c4760d",
   "metadata": {},
   "outputs": [
    {
     "name": "stdout",
     "output_type": "stream",
     "text": [
      "25.0\n",
      "4\n",
      "5\n",
      "3.141592653589793\n"
     ]
    }
   ],
   "source": [
    "import math\n",
    "print(math.fabs(-25))\n",
    "print(math.floor(4.7))\n",
    "print(math.ceil(4.3))\n",
    "print(math.pi)\n"
   ]
  },
  {
   "cell_type": "code",
   "execution_count": 12,
   "id": "78f3a70b",
   "metadata": {},
   "outputs": [
    {
     "name": "stdout",
     "output_type": "stream",
     "text": [
      "El área es 28.27\n"
     ]
    }
   ],
   "source": [
    "import math\n",
    "\n",
    "r = float(input(\"Introduce el radio del círculo: \"))\n",
    "area = math.pi * r**2\n",
    "print(f\"El área es {area:.2f}\")\n"
   ]
  },
  {
   "cell_type": "code",
   "execution_count": 15,
   "id": "0e27a70f",
   "metadata": {},
   "outputs": [
    {
     "name": "stdout",
     "output_type": "stream",
     "text": [
      "[17, 18, 21, 22, 25, 26, 29]\n"
     ]
    }
   ],
   "source": [
    "temperaturas = [17,22,26,18,21,25,29]\n",
    "print(sorted(temperaturas))"
   ]
  },
  {
   "cell_type": "code",
   "execution_count": 23,
   "id": "45e71d59",
   "metadata": {},
   "outputs": [
    {
     "name": "stdout",
     "output_type": "stream",
     "text": [
      "3\n",
      "['Narnia', 'Star Wars', 'El señor de los anillos', 'Severance', 'True Detective', 'Arcane']\n",
      "['Narnia', 'Star Wars', 'El señor de los anillos', ['Severance', 'True Detective', 'Arcane']]\n"
     ]
    }
   ],
   "source": [
    "peliculas = [\"Narnia\", \"Star Wars\", \"El señor de los anillos\"]\n",
    "print(len(peliculas))\n",
    "series = [\"Severance\", \"True Detective\", \"Arcane\"]\n",
    "resultado = peliculas + series\n",
    "print(resultado)\n",
    "peliculas.append(series)\n",
    "print(peliculas)"
   ]
  },
  {
   "cell_type": "code",
   "execution_count": null,
   "id": "39d7e5f0",
   "metadata": {},
   "outputs": [],
   "source": []
  }
 ],
 "metadata": {
  "kernelspec": {
   "display_name": "data_analysis_env",
   "language": "python",
   "name": "python3"
  },
  "language_info": {
   "codemirror_mode": {
    "name": "ipython",
    "version": 3
   },
   "file_extension": ".py",
   "mimetype": "text/x-python",
   "name": "python",
   "nbconvert_exporter": "python",
   "pygments_lexer": "ipython3",
   "version": "3.11.11"
  }
 },
 "nbformat": 4,
 "nbformat_minor": 5
}
