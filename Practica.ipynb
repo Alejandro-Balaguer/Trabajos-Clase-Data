{
 "cells": [
  {
   "cell_type": "code",
   "execution_count": null,
   "id": "15e0a17d",
   "metadata": {},
   "outputs": [],
   "source": [
    "class Instituto:\n",
    "    estudiantes = {\"juan\": [1,2,4], \"pepe\": [5,7,7], \"raul\": [9,9,10]}\n",
    "    medias_globales = []\n",
    "    def stats(self):\n",
    "        \"\"\"\n",
    "        el metodo stats devuelve la media de cada estudiante y la media global\n",
    "        \"\"\"\n",
    "        medias =[]\n",
    "        for alumno, notas in self.estudiantes.items():\n",
    "            print(f\"La media {alumno} es {sum(notas)/len(notas)}\")\n",
    "            medias.append(sum(notas)/len(notas))\n",
    "        print(f\"La media global es {sum(medias)/len(medias)}\")\n",
    "        self.medias_globales = medias\n",
    "    \n",
    "\n",
    "    def procentaje_aprobados_total(self):\n",
    "        \"\"\"\n",
    "        devuelve el porcentaje de alumnos que su media es al menos 5\n",
    "        \"\"\"\n",
    "        aprobados = 0\n",
    "        for media in medias:\n",
    "            if media >= 5:\n",
    "                aprobados += 1\n",
    "        return aprobados/len(self.medias_globales)*100\n",
    "\n",
    "    def procentaje_aprobados_eval(self):\n",
    "        \"\"\"\n",
    "        devuelve el porcentaje de alumnos aprobados en una evaluacion concreta (hay 3)\n",
    "        \"\"\"\n",
    "        pass\n",
    "\n",
    "    def cambiar_nota(self):\n",
    "        \"\"\"\n",
    "        se le pone una nueva nota (las 3) al alumno en cuestion\n",
    "        \"\"\"\n",
    "        pass"
   ]
  },
  {
   "cell_type": "markdown",
   "id": "e1b274c8",
   "metadata": {},
   "source": [
    "evaluaciones, notas\n",
    "metodo media por cada estudiantes \n",
    "metodo media de todos el curso de todos en conjunto\n",
    "metodo porcentaje aprovados total\n",
    "metodo porcentaje d alumnos por evaluar\n",
    "cambair nota\n",
    "\n",
    "\n"
   ]
  }
 ],
 "metadata": {
  "kernelspec": {
   "display_name": "data_analysis_env",
   "language": "python",
   "name": "python3"
  },
  "language_info": {
   "codemirror_mode": {
    "name": "ipython",
    "version": 3
   },
   "file_extension": ".py",
   "mimetype": "text/x-python",
   "name": "python",
   "nbconvert_exporter": "python",
   "pygments_lexer": "ipython3",
   "version": "3.11.11"
  }
 },
 "nbformat": 4,
 "nbformat_minor": 5
}
