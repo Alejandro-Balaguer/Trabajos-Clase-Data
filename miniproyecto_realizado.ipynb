{
 "cells": [
  {
   "cell_type": "code",
   "execution_count": null,
   "id": "b4e83029",
   "metadata": {},
   "outputs": [
    {
     "name": "stdout",
     "output_type": "stream",
     "text": [
      "Stock de resina (en mL):\n",
      " - Elegoo Water Washable 8K: 1700 mL\n",
      " - Elegoo Water Washable Standard: 700 mL\n"
     ]
    }
   ],
   "source": [
    "\n",
    "# Programa de gestión de inventario de resina en mililitros\n",
    "\n",
    "# Definimos los dos tipos de resina. Creamos el diccionario donde las claves seran 8K y STD\n",
    "RESINAS = {\n",
    "    \"8K\": \"Elegoo Water Washable 8K\",\n",
    "    \"STD\": \"Elegoo Water Washable Standard\"\n",
    "}\n",
    "\n",
    "class InventarioResina:\n",
    "    def __init__(self):\n",
    "        # Almacenamos el stock en mililitros. Añadimos una valor a cada clave, en este caso es 0, es decir, emepzamos con el stock vacio.\n",
    "        self.stock_ml = {clave: 0 for clave in RESINAS}\n",
    "\n",
    "    def entrada(self, tipo: str, litros: float):\n",
    "        \"\"\"\n",
    "        Registra la entrada de 'litros' de resina del tipo dado.\n",
    "        Convierte litros a mililitros y suma al stock.\n",
    "        \"\"\"\n",
    "        if tipo not in self.stock_ml:\n",
    "            raise ValueError(f\"Tipo de resina desconocido: {tipo}\") # Esto hace que si el tipo de resina no es el adecuado, aparezca un mesaje de error\n",
    "        ml = litros * 1000\n",
    "        self.stock_ml[tipo] += ml\n",
    "\n",
    "    def salida(self, tipo: str, litros: float):\n",
    "        \"\"\"\n",
    "        Registra la salida de 'litros' de resina del tipo dado (por pedido).\n",
    "        Convierte litros a mililitros y resta del stock.\n",
    "        \"\"\"\n",
    "        if tipo not in self.stock_ml:\n",
    "            raise ValueError(f\"Tipo de resina desconocido: {tipo}\") # Lo mismo que el anterio raise\n",
    "        ml = litros * 1000\n",
    "        if ml > self.stock_ml[tipo]:\n",
    "            raise ValueError(f\"No hay suficiente stock de {RESINAS[tipo]} \"\n",
    "                             f\"({self.stock_ml[tipo]} mL disponible).\")\n",
    "        self.stock_ml[tipo] -= ml\n",
    "\n",
    "    def mostrar_stock(self):\n",
    "        \"\"\"Imprime el stock actual de cada tipo de resina en mL.\"\"\"\n",
    "        print(\"Stock de resina (en mL):\")\n",
    "        for clave, ml in self.stock_ml.items():\n",
    "            print(f\" - {RESINAS[clave]}: {int(ml)} mL\")\n",
    "\n",
    "\n",
    "# Ejemplo de uso:\n",
    "inv = InventarioResina()\n",
    "\n",
    "# Entradas de resina\n",
    "inv.entrada(\"8K\", 2.5)     \n",
    "inv.entrada(\"STD\", 1.2)    \n",
    "\n",
    "# Salidas por pedido\n",
    "inv.salida(\"8K\", 0.8)     \n",
    "inv.salida(\"STD\", 0.5)     \n",
    "\n",
    "# Mostrar stock final\n",
    "inv.mostrar_stock()\n"
   ]
  },
  {
   "cell_type": "code",
   "execution_count": null,
   "id": "09e6bf13",
   "metadata": {},
   "outputs": [],
   "source": [
    "#Programa de gestion de ventas de miniaturas (total unidades e ingresos)\n",
    "\n",
    "tiposMiniaturas = [\"25 mm\", \"50 mm\", \"75mm\"] #Creamos una lista conlos tipos\n",
    "\n",
    "#Le asignamos los atributos y hacemos un .total y .ingresos para guardar los valores\n",
    "\n",
    "class ventasMinis:\n",
    "    def __init__ (self):\n",
    "        self.precio25 = 2\n",
    "        self.precio50 = 4\n",
    "        self.precio75 = 6\n",
    "        self.total = 0 \n",
    "        self.ingresos = 0.0\n",
    "   \n",
    "# Definifmos una funcion que suma el total unidades y el total ingresos\n",
    "\n",
    "    def num_ventas (self, num25: int, num50: int, num75: int):\n",
    "        suma = num25 + num50 + num75 \n",
    "        self.total += suma\n",
    "        rec25 = num25 * self.precio25\n",
    "        rec50 = num50 * self.precio50\n",
    "        rec75 = num75 * self.precio75\n",
    "        self.ingresos += (rec25 + rec50 + rec75)\n",
    "        \n",
    "    "
   ]
  },
  {
   "cell_type": "code",
   "execution_count": 38,
   "id": "46322f17",
   "metadata": {},
   "outputs": [
    {
     "name": "stdout",
     "output_type": "stream",
     "text": [
      "Unidades vendidas: 39\n",
      "Ingresos (€): 116.0\n"
     ]
    }
   ],
   "source": [
    "v = ventasMinis()\n",
    "v.num_ventas(22, 15, 2)\n",
    "print(\"Unidades vendidas:\", v.total)\n",
    "print(\"Ingresos (€):\", v.ingresos)\n"
   ]
  },
  {
   "cell_type": "code",
   "execution_count": null,
   "id": "5179fdf0",
   "metadata": {},
   "outputs": [],
   "source": []
  }
 ],
 "metadata": {
  "kernelspec": {
   "display_name": "data_analysis_env",
   "language": "python",
   "name": "python3"
  },
  "language_info": {
   "codemirror_mode": {
    "name": "ipython",
    "version": 3
   },
   "file_extension": ".py",
   "mimetype": "text/x-python",
   "name": "python",
   "nbconvert_exporter": "python",
   "pygments_lexer": "ipython3",
   "version": "3.11.11"
  }
 },
 "nbformat": 4,
 "nbformat_minor": 5
}
