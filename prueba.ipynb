{
 "cells": [
  {
   "cell_type": "code",
   "execution_count": null,
   "id": "222bc79d",
   "metadata": {},
   "outputs": [
    {
     "name": "stdout",
     "output_type": "stream",
     "text": [
      "[['B' 'B' 'B' 'B' ' ' ' ' ' ' ' ' ' ' ' ']\n",
      " [' ' ' ' ' ' ' ' ' ' 'B' ' ' ' ' ' ' ' ']\n",
      " [' ' 'B' ' ' ' ' ' ' 'B' ' ' ' ' ' ' ' ']\n",
      " [' ' ' ' ' ' ' ' ' ' ' ' ' ' 'B' ' ' 'B']\n",
      " [' ' ' ' ' ' ' ' ' ' ' ' ' ' 'B' ' ' ' ']\n",
      " [' ' ' ' 'B' 'B' 'B' ' ' ' ' ' ' ' ' ' ']\n",
      " [' ' ' ' ' ' ' ' ' ' ' ' ' ' ' ' ' ' ' ']\n",
      " [' ' 'B' 'B' ' ' 'B' ' ' ' ' ' ' 'B' ' ']\n",
      " [' ' ' ' ' ' ' ' ' ' ' ' 'B' ' ' 'B' ' ']\n",
      " [' ' ' ' ' ' ' ' ' ' ' ' ' ' ' ' 'B' ' ']]\n"
     ]
    }
   ],
   "source": [
    "import numpy as np\n",
    "\n",
    "def puede_colocar(tablero, fila, col, eslora, orientacion):\n",
    "    # Definir los límites de la zona de “seguridad”:\n",
    "    # un margen de 1 casilla alrededor del barco propuesto\n",
    "    if orientacion == \"H\":\n",
    "        fila0 = max(0, fila - 1)\n",
    "        fila1 = min(9, fila + 1)\n",
    "        col0 = max(0, col - 1)\n",
    "        col1 = min(9, col + eslora)\n",
    "    else:  # \"V\"\n",
    "        fila0 = max(0, fila - 1)\n",
    "        fila1 = min(9, fila + eslora)\n",
    "        col0 = max(0, col - 1)\n",
    "        col1 = min(9, col + 1)\n",
    "    \n",
    "    # Si en esa zona hay alguna 'B', no podemos ponerlo\n",
    "    return not np.any(tablero[fila0:fila1+1, col0:col1+1] == \"B\")\n",
    "\n",
    "def colocar_barco(tablero, eslora):\n",
    "    while True:\n",
    "        orientacion = np.random.choice([\"H\", \"V\"])\n",
    "        if orientacion == \"H\":\n",
    "            fila = np.random.randint(0, 10)\n",
    "            col  = np.random.randint(0, 10 - (eslora - 1))\n",
    "        else:  # \"V\"\n",
    "            fila = np.random.randint(0, 10 - (eslora - 1))\n",
    "            col  = np.random.randint(0, 10)\n",
    "        \n",
    "        # ¿Cabe y no choca con otros?\n",
    "        if puede_colocar(tablero, fila, col, eslora, orientacion):\n",
    "            if orientacion == \"H\":\n",
    "                tablero[fila, col:col+eslora] = \"B\"\n",
    "            else:\n",
    "                tablero[fila: fila+eslora, col] = \"B\"\n",
    "            return  \n",
    "\n",
    "\n",
    "tablero = np.full((10, 10), \" \")\n",
    "\n",
    "esloras = [1,1,1,1,2,2,2,3,3,4]\n",
    "\n",
    "for eslora in esloras:\n",
    "    colocar_barco(tablero, eslora)\n",
    "\n",
    "print(tablero)\n"
   ]
  },
  {
   "cell_type": "code",
   "execution_count": null,
   "id": "b8f3a542",
   "metadata": {},
   "outputs": [],
   "source": []
  }
 ],
 "metadata": {
  "kernelspec": {
   "display_name": "data_analysis_env",
   "language": "python",
   "name": "python3"
  },
  "language_info": {
   "codemirror_mode": {
    "name": "ipython",
    "version": 3
   },
   "file_extension": ".py",
   "mimetype": "text/x-python",
   "name": "python",
   "nbconvert_exporter": "python",
   "pygments_lexer": "ipython3",
   "version": "3.11.11"
  }
 },
 "nbformat": 4,
 "nbformat_minor": 5
}
